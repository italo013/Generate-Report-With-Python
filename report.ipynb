{
 "cells": [
  {
   "cell_type": "markdown",
   "metadata": {},
   "source": [
    "Importanto Bibliotecas | Importing Library"
   ]
  },
  {
   "cell_type": "code",
   "execution_count": 34,
   "metadata": {},
   "outputs": [],
   "source": [
    "from docxtpl import DocxTemplate, InlineImage\n",
    "import pandas as pd\n",
    "from random import randint\n",
    "from docx.shared import Cm, Inches, Mm, Emu\n",
    "from datetime import date\n",
    "from docx2pdf import convert"
   ]
  },
  {
   "cell_type": "markdown",
   "metadata": {},
   "source": [
    "Lendo o template e os dados da Planilha (caso haja) | Reading the template and data from the Spreadsheet (if any)"
   ]
  },
  {
   "cell_type": "code",
   "execution_count": 35,
   "metadata": {},
   "outputs": [],
   "source": [
    "doc = DocxTemplate(\"report_template.docx\")"
   ]
  },
  {
   "cell_type": "markdown",
   "metadata": {},
   "source": [
    "Criando um DataSet Hipotético | Creating a Hypothetical DataSet"
   ]
  },
  {
   "cell_type": "code",
   "execution_count": 36,
   "metadata": {},
   "outputs": [],
   "source": [
    "salesRows = []\n",
    "list_item = ['Chairs', 'Storage', 'Phones', 'Tables', 'Accessories']\n",
    "for iItr in range(5):\n",
    "    costPu = randint(1,15)\n",
    "    nUnits = randint(100,500)\n",
    "    salesRows.append({'sNo': iItr+1, 'name': list_item[iItr],'nUnits': nUnits, 'cPU': costPu,  'revenue': costPu*nUnits})"
   ]
  },
  {
   "cell_type": "code",
   "execution_count": 37,
   "metadata": {},
   "outputs": [
    {
     "data": {
      "text/plain": [
       "[{'sNo': 1, 'name': 'Chairs', 'nUnits': 161, 'cPU': 9, 'revenue': 1449},\n",
       " {'sNo': 2, 'name': 'Storage', 'nUnits': 235, 'cPU': 1, 'revenue': 235},\n",
       " {'sNo': 3, 'name': 'Phones', 'nUnits': 246, 'cPU': 14, 'revenue': 3444},\n",
       " {'sNo': 4, 'name': 'Tables', 'nUnits': 199, 'cPU': 8, 'revenue': 1592},\n",
       " {'sNo': 5, 'name': 'Accessories', 'nUnits': 367, 'cPU': 12, 'revenue': 4404}]"
      ]
     },
     "execution_count": 37,
     "metadata": {},
     "output_type": "execute_result"
    }
   ],
   "source": [
    "salesRows"
   ]
  },
  {
   "cell_type": "code",
   "execution_count": 38,
   "metadata": {},
   "outputs": [
    {
     "data": {
      "text/plain": [
       "[{'sNo': 5, 'name': 'Accessories', 'nUnits': 367, 'cPU': 12, 'revenue': 4404},\n",
       " {'sNo': 3, 'name': 'Phones', 'nUnits': 246, 'cPU': 14, 'revenue': 3444},\n",
       " {'sNo': 4, 'name': 'Tables', 'nUnits': 199, 'cPU': 8, 'revenue': 1592}]"
      ]
     },
     "execution_count": 38,
     "metadata": {},
     "output_type": "execute_result"
    }
   ],
   "source": [
    "topSalesItem = pd.DataFrame.from_dict(salesRows).nlargest(n= 3, columns=\"revenue\").to_dict('records')\n",
    "topSalesItem"
   ]
  },
  {
   "cell_type": "markdown",
   "metadata": {},
   "source": [
    "Criando os Gráficos | Creating Graphics"
   ]
  },
  {
   "cell_type": "code",
   "execution_count": 39,
   "metadata": {},
   "outputs": [
    {
     "data": {
      "text/plain": [
       "<Figure size 360x360 with 0 Axes>"
      ]
     },
     "metadata": {},
     "output_type": "display_data"
    }
   ],
   "source": [
    "import matplotlib.pyplot as plt\n",
    "import numpy as np\n",
    "\n",
    "revenue_2020 = list()\n",
    "revenue_2021 = list()\n",
    "revenue_2022 = list()\n",
    "\n",
    "for x in range(1, 5):\n",
    "    revenue_2020.append(randint(1000, 10000))\n",
    "    revenue_2021.append(randint(1000, 10000))\n",
    "    revenue_2022.append(randint(1000, 10000))\n",
    "\n",
    "barWidth = 0.20\n",
    "\n",
    "plt.figure(figsize=(5,5))\n",
    "\n",
    "r1 = np.arange(len(revenue_2020))\n",
    "r2 = [x + barWidth for x in r1]\n",
    "r3 = [x + barWidth for x in r2]"
   ]
  },
  {
   "cell_type": "code",
   "execution_count": 40,
   "metadata": {},
   "outputs": [
    {
     "data": {
      "image/png": "[encoded data removed]",
      "text/plain": [
       "<Figure size 432x288 with 1 Axes>"
      ]
     },
     "metadata": {
      "needs_background": "light"
     },
     "output_type": "display_data"
    }
   ],
   "source": [
    "plt.bar(r1, revenue_2020, color='#94CD29', width=barWidth, label='2020')\n",
    "plt.bar(r2, revenue_2021, color='#273152', width=barWidth, label='2021')\n",
    "plt.bar(r3, revenue_2022, color='#00BFFF', width=barWidth, label='2022')\n",
    "\n",
    "#plt.style.use('bmh')\n",
    "plt.xticks([r + barWidth for r in range(len(revenue_2020))], ['1º Quarter', '2º Quarter', '3º Quarter', '4º Quarter'])\n",
    "plt.ylabel('Revenue')\n",
    "plt.title('Result of the last 3 years', x=0.5, y=1.1)\n",
    "\n",
    "plt.legend(bbox_to_anchor=(1.02, 1), borderaxespad=0)\n",
    "#plt.show()\n",
    "plt.savefig('result_last_3years.png', bbox_inches='tight')"
   ]
  },
  {
   "cell_type": "code",
   "execution_count": 41,
   "metadata": {},
   "outputs": [
    {
     "data": {
      "text/plain": [
       "[21351, 28184, 10150]"
      ]
     },
     "execution_count": 41,
     "metadata": {},
     "output_type": "execute_result"
    }
   ],
   "source": [
    "revenue_acum = [sum(revenue_2020), sum(revenue_2021), sum(revenue_2022)]\n",
    "revenue_acum"
   ]
  },
  {
   "cell_type": "code",
   "execution_count": 42,
   "metadata": {},
   "outputs": [
    {
     "data": {
      "text/plain": [
       "2021"
      ]
     },
     "execution_count": 42,
     "metadata": {},
     "output_type": "execute_result"
    }
   ],
   "source": [
    "year = date.today().year - 3 + revenue_acum.index(max(revenue_acum)) + 1 \n",
    "year"
   ]
  },
  {
   "cell_type": "markdown",
   "metadata": {},
   "source": [
    "Transferindo para o Word e Salvando | Transferring to Word and Saving"
   ]
  },
  {
   "cell_type": "code",
   "execution_count": 43,
   "metadata": {},
   "outputs": [],
   "source": [
    "context = {\n",
    "    \"tblSalesRows\": salesRows,\n",
    "    \"texSalesTotal\": sum(revenue_2022),\n",
    "    \"numTopSalesItem\": topSalesItem,\n",
    "    \"betterYear\": year,\n",
    "    \"resulBetterYear\": round(sum(revenue_2022)/sum(revenue_acum)*100, 2),\n",
    "    \"grafico1\": InlineImage(doc, 'result_last_3years.png')\n",
    "}"
   ]
  },
  {
   "cell_type": "code",
   "execution_count": 44,
   "metadata": {},
   "outputs": [
    {
     "name": "stderr",
     "output_type": "stream",
     "text": [
      "100%|██████████| 1/1 [00:01<00:00,  1.73s/it]\n"
     ]
    }
   ],
   "source": [
    "doc.render(context)\n",
    "doc.save('Annual Report - Genereted.docx')\n",
    "convert(\"Annual Report - Genereted.docx\") #Convertendo para PDF | Converting to PDF"
   ]
  }
 ],
 "metadata": {
  "interpreter": {
   "hash": "94f7e7c947614aa1cda25daa75d25ae2e9a77784bd1ff0ad50cea51dcb4701fc"
  },
  "kernelspec": {
   "display_name": "Python 3.9.12 64-bit (windows store)",
   "language": "python",
   "name": "python3"
  },
  "language_info": {
   "codemirror_mode": {
    "name": "ipython",
    "version": 3
   },
   "file_extension": ".py",
   "mimetype": "text/x-python",
   "name": "python",
   "nbconvert_exporter": "python",
   "pygments_lexer": "ipython3",
   "version": "3.9.12"
  },
  "orig_nbformat": 4
 },
 "nbformat": 4,
 "nbformat_minor": 2
}
